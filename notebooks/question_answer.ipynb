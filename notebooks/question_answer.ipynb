{
 "cells": [
  {
   "cell_type": "code",
   "execution_count": 4,
   "metadata": {},
   "outputs": [],
   "source": [
    "import streamlit as st\n",
    "from utils import extract_recipe_details, extract_timestamps\n",
    "from youtube_scrapper import get_eng_recipe\n",
    "from gemini import get_gemini_response, create_prompt_for_recipe, create_prompt_for_timestamps\n",
    "\n",
    "recipe_to_cook = \"shahi paneer\"\n",
    "eng_recipes = get_eng_recipe(f\"{recipe_to_cook} recipe\")\n",
    "index_of_recipe_chosen = 0\n",
    "selected_video = eng_recipes[index_of_recipe_chosen]\n",
    "video_id = selected_video['id']\n",
    "base_youtube_video_url = f\"https://www.youtube.com/embed/{video_id}\""
   ]
  },
  {
   "cell_type": "code",
   "execution_count": 1,
   "metadata": {},
   "outputs": [],
   "source": [
    "from youtube_search import YoutubeSearch\n",
    "from youtube_transcript_api import YouTubeTranscriptApi\n",
    "\n",
    "def get_eng_recipe(recipe_name, min_duration = 5):\n",
    "    '''this function uses transcript api to find recipes with eng subtitles and list them,\n",
    "    and returns a list of dictionaries with video details & transcript'''\n",
    "    eng_recipe = []\n",
    "    results = YoutubeSearch(recipe_name, max_results=100).to_dict()\n",
    "    for result in results:\n",
    "        # checking if the duration > min duration\n",
    "        if float(result['duration'].split(':')[0]) >= min_duration: \n",
    "            try:\n",
    "                transcript_list = YouTubeTranscriptApi.list_transcripts(result['id'])\n",
    "                for transcript in transcript_list:\n",
    "                    # check if the lang is english\n",
    "                    if 'english' in transcript.language.lower():\n",
    "                        result['transcript'] = YouTubeTranscriptApi.get_transcript(result['id'], ['en', 'en-GB', 'en-US'])\n",
    "                        eng_recipe.append(result)\n",
    "                    if len(eng_recipe) == 10:\n",
    "                        break\n",
    "            except:\n",
    "                None\n",
    "    return eng_recipe"
   ]
  },
  {
   "cell_type": "code",
   "execution_count": 3,
   "metadata": {},
   "outputs": [],
   "source": [
    "answer = get_eng_recipe('shahi paneer')"
   ]
  },
  {
   "cell_type": "code",
   "execution_count": 4,
   "metadata": {},
   "outputs": [
    {
     "data": {
      "text/plain": [
       "dict_keys(['id', 'thumbnails', 'title', 'long_desc', 'channel', 'duration', 'views', 'publish_time', 'url_suffix', 'transcript'])"
      ]
     },
     "execution_count": 4,
     "metadata": {},
     "output_type": "execute_result"
    }
   ],
   "source": [
    "answer[0].keys()"
   ]
  },
  {
   "cell_type": "code",
   "execution_count": 6,
   "metadata": {},
   "outputs": [],
   "source": [
    "def fetch_recipe_details(selected_video, recipe_to_cook, gemini_api_key):\n",
    "    role, recipe_prompt = create_prompt_for_recipe(v, recipe_to_cook)\n",
    "    recipe_output = get_gemini_response(role, recipe_prompt, gemini_api_key)\n",
    "    steps, ingredients, servings, utensils = extract_recipe_details(recipe_output)\n",
    "    return steps, ingredients, servings, utensils\n",
    "\n",
    "def fetch_recipe_steps_timestamps(selected_video, steps, recipe_to_cook, gemini_api_key):\n",
    "    role, timestamp_prompt = create_prompt_for_timestamps(selected_video['transcript'], steps, recipe_to_cook)\n",
    "    timestamp_output = get_gemini_response(role, timestamp_prompt, gemini_api_key)\n",
    "    return extract_timestamps(timestamp_output)\n",
    "\n",
    "steps, ingredients, servings, utensils = fetch_recipe_details(selected_video, recipe_to_cook)\n",
    "timestamps = fetch_recipe_steps_timestamps(selected_video, steps, recipe_to_cook)"
   ]
  },
  {
   "cell_type": "code",
   "execution_count": 8,
   "metadata": {},
   "outputs": [],
   "source": [
    "def create_prompt_for_question_answering(transcript, recipe_to_cook, question):\n",
    "    model_role = \"As a chef with expertise in various recipes, your task is to provide detailed answers to questions based on a specific recipe's transcript. Use your culinary knowledge and the given transcript to offer insightful and accurate responses.\"\n",
    "\n",
    "    prompt = f\"\"\"Transcript of the {recipe_to_cook} Recipe: \\n\\n{transcript}\\n\\nGiven the detailed transcript above for the {recipe_to_cook} recipe, your expertise is needed to answer this culinary question:\\n\\nQuestion: {question}\\n\\nAs a chef, your Answer:\"\"\"\n",
    "\n",
    "    return model_role, prompt\n",
    "\n",
    "question = \"what are the changes that i need to make to the recipe to make it vegan?\"\n",
    "qa_role, qa_prompt = create_prompt_for_question_answering(selected_video['transcript'], recipe_to_cook, question)\n",
    "answer = get_gemini_response(qa_role, qa_prompt)\n",
    "answer"
   ]
  },
  {
   "cell_type": "code",
   "execution_count": 10,
   "metadata": {},
   "outputs": [
    {
     "data": {
      "text/plain": [
       "'To make the shahi paneer recipe vegan, the following changes need to be made:\\n\\n1. **Replace the butter:** Instead of using butter to make the curry, use a vegan butter alternative such as plant-based margarine or vegan ghee.\\n\\n2. **Substitute the cream:** To achieve the creamy texture in the curry without using dairy cream, you can use coconut cream, cashew cream, or almond milk.\\n\\n3. **Omit the paneer:** As paneer is a type of cheese, it is not suitable for a vegan diet. You can replace the paneer with tofu, tempeh, or a plant-based meat alternative.\\n\\n4. **Double-check the other ingredients:** Make sure that all the other ingredients you use, such as spices, herbs, and seasonings, are vegan-friendly.\\n\\nBy making these changes, you can create a delicious and satisfying vegan version of shahi paneer that is just as flavorful and creamy as the traditional recipe.'"
      ]
     },
     "execution_count": 10,
     "metadata": {},
     "output_type": "execute_result"
    }
   ],
   "source": []
  },
  {
   "cell_type": "code",
   "execution_count": 11,
   "metadata": {},
   "outputs": [
    {
     "name": "stdout",
     "output_type": "stream",
     "text": [
      "To make the shahi paneer recipe vegan, the following changes need to be made:\n",
      "\n",
      "1. **Replace the butter:** Instead of using butter to make the curry, use a vegan butter alternative such as plant-based margarine or vegan ghee.\n",
      "\n",
      "2. **Substitute the cream:** To achieve the creamy texture in the curry without using dairy cream, you can use coconut cream, cashew cream, or almond milk.\n",
      "\n",
      "3. **Omit the paneer:** As paneer is a type of cheese, it is not suitable for a vegan diet. You can replace the paneer with tofu, tempeh, or a plant-based meat alternative.\n",
      "\n",
      "4. **Double-check the other ingredients:** Make sure that all the other ingredients you use, such as spices, herbs, and seasonings, are vegan-friendly.\n",
      "\n",
      "By making these changes, you can create a delicious and satisfying vegan version of shahi paneer that is just as flavorful and creamy as the traditional recipe.\n"
     ]
    }
   ],
   "source": [
    "print(answer)"
   ]
  },
  {
   "cell_type": "code",
   "execution_count": null,
   "metadata": {},
   "outputs": [],
   "source": []
  }
 ],
 "metadata": {
  "kernelspec": {
   "display_name": "base",
   "language": "python",
   "name": "python3"
  },
  "language_info": {
   "codemirror_mode": {
    "name": "ipython",
    "version": 3
   },
   "file_extension": ".py",
   "mimetype": "text/x-python",
   "name": "python",
   "nbconvert_exporter": "python",
   "pygments_lexer": "ipython3",
   "version": "3.11.5"
  },
  "orig_nbformat": 4
 },
 "nbformat": 4,
 "nbformat_minor": 2
}
